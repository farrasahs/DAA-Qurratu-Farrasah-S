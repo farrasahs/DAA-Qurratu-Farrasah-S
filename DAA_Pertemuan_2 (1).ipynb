{
  "nbformat": 4,
  "nbformat_minor": 0,
  "metadata": {
    "colab": {
      "provenance": []
    },
    "kernelspec": {
      "name": "python3",
      "display_name": "Python 3"
    },
    "language_info": {
      "name": "python"
    }
  },
  "cells": [
    {
      "cell_type": "code",
      "execution_count": null,
      "metadata": {
        "id": "5WiXLJUNfWFj"
      },
      "outputs": [],
      "source": [
        "import numpy as np"
      ]
    },
    {
      "cell_type": "code",
      "source": [
        "# Ini contoh salah?tidak sesuai\n",
        "\n",
        "# terdapat list a dan b\n",
        "a = [1, 2, 3]\n",
        "b = [4, 5, 6]\n",
        "\n",
        "# jumlahkan\n",
        "hasil = a + b\n",
        "\n",
        "print(hasil)"
      ],
      "metadata": {
        "colab": {
          "base_uri": "https://localhost:8080/"
        },
        "id": "5TWT_dbFnx6L",
        "outputId": "9614187a-a674-4619-c29f-489e5ca45373"
      },
      "execution_count": 15,
      "outputs": [
        {
          "output_type": "stream",
          "name": "stdout",
          "text": [
            "[1, 2, 3, 4, 5, 6]\n"
          ]
        }
      ]
    },
    {
      "cell_type": "code",
      "source": [
        "def add(list_a, list_b):\n",
        "    result = []\n",
        "    for first, second in zip(list_a, list_b):\n",
        "        result.append(first + second)\n",
        "    x = 0\n",
        "    for i in result:\n",
        "        x += i\n",
        "    return x\n",
        "\n",
        "print(add(a,b))"
      ],
      "metadata": {
        "colab": {
          "base_uri": "https://localhost:8080/"
        },
        "id": "b_lZs41FwWA9",
        "outputId": "152bf85d-0418-4b31-fab4-0cfd1343adfe"
      },
      "execution_count": 16,
      "outputs": [
        {
          "output_type": "stream",
          "name": "stdout",
          "text": [
            "21\n"
          ]
        }
      ]
    },
    {
      "cell_type": "code",
      "source": [
        "import numpy as np\n",
        "# membuat array\n",
        "nilai_siswa = np.array([85, 55, 40, 90])\n",
        "# mengakses data pada array\n",
        "print(nilai_siswa[3])"
      ],
      "metadata": {
        "colab": {
          "base_uri": "https://localhost:8080/"
        },
        "id": "eRomD2cLyouP",
        "outputId": "d46cf24d-dcf8-4f39-d5ae-1a926ac3ca56"
      },
      "execution_count": 17,
      "outputs": [
        {
          "output_type": "stream",
          "name": "stdout",
          "text": [
            "90\n"
          ]
        }
      ]
    },
    {
      "cell_type": "code",
      "source": [
        "import numpy as np\n",
        "print(np.__version__)"
      ],
      "metadata": {
        "colab": {
          "base_uri": "https://localhost:8080/"
        },
        "id": "niZIibrAzlVu",
        "outputId": "3af82842-319c-46bb-e06b-13593b97f54b"
      },
      "execution_count": 18,
      "outputs": [
        {
          "output_type": "stream",
          "name": "stdout",
          "text": [
            "2.0.2\n"
          ]
        }
      ]
    },
    {
      "cell_type": "code",
      "source": [
        "print(\"Hello, World\")\n",
        "print(\"Nama saya (Ratu)\")\n",
        "print(\"NIM saya (2024071017)\")"
      ],
      "metadata": {
        "colab": {
          "base_uri": "https://localhost:8080/"
        },
        "id": "Lp380kcl0Mgs",
        "outputId": "5f7c5e9e-6eef-4f43-81ba-8732db13fcc2"
      },
      "execution_count": 21,
      "outputs": [
        {
          "output_type": "stream",
          "name": "stdout",
          "text": [
            "Hello, World\n",
            "Nama saya (Ratu)\n",
            "NIM saya (2024071017)\n"
          ]
        }
      ]
    },
    {
      "cell_type": "code",
      "source": [
        "if 5>2:\n",
        "  print(\"Five is greater than two\")"
      ],
      "metadata": {
        "colab": {
          "base_uri": "https://localhost:8080/"
        },
        "id": "psunIQBW0jy4",
        "outputId": "33d86d9e-1326-433e-e65a-d6be3f5075be"
      },
      "execution_count": 22,
      "outputs": [
        {
          "output_type": "stream",
          "name": "stdout",
          "text": [
            "Five is greater than two\n"
          ]
        }
      ]
    },
    {
      "cell_type": "code",
      "source": [
        "if 5<2:\n",
        "  print(\"Five is less than two\")"
      ],
      "metadata": {
        "id": "c4ZadXN_1t7M"
      },
      "execution_count": 23,
      "outputs": []
    },
    {
      "cell_type": "code",
      "source": [
        "x = 5\n",
        "y = \"John\"\n",
        "print(x)\n",
        "print(y)"
      ],
      "metadata": {
        "colab": {
          "base_uri": "https://localhost:8080/"
        },
        "id": "bgJxyiq912y0",
        "outputId": "ec007612-00b8-48e7-f0a3-a227af84101f"
      },
      "execution_count": 24,
      "outputs": [
        {
          "output_type": "stream",
          "name": "stdout",
          "text": [
            "5\n",
            "John\n"
          ]
        }
      ]
    },
    {
      "cell_type": "code",
      "source": [
        "x = 4\n",
        "x = \"Sally\" #yang disimpan adalah x terakhir\n",
        "print(x)"
      ],
      "metadata": {
        "colab": {
          "base_uri": "https://localhost:8080/"
        },
        "id": "bOl6Qw_e2EWH",
        "outputId": "697e27ea-49b6-421b-cde7-a99e8c37edfa"
      },
      "execution_count": 25,
      "outputs": [
        {
          "output_type": "stream",
          "name": "stdout",
          "text": [
            "Sally\n"
          ]
        }
      ]
    },
    {
      "cell_type": "code",
      "source": [
        "def getFirst(myList):\n",
        "  return(myList[0])\n",
        "getFirst([1,2,3]) #kalau mau dpt getlast: panjang array - 1"
      ],
      "metadata": {
        "colab": {
          "base_uri": "https://localhost:8080/"
        },
        "id": "aoFk1waQ2R9P",
        "outputId": "18d4ed5d-65d3-4a38-b62d-0f6d5df6d452"
      },
      "execution_count": 26,
      "outputs": [
        {
          "output_type": "execute_result",
          "data": {
            "text/plain": [
              "1"
            ]
          },
          "metadata": {},
          "execution_count": 26
        }
      ]
    },
    {
      "cell_type": "code",
      "source": [
        "getFirst([1,2,3])"
      ],
      "metadata": {
        "colab": {
          "base_uri": "https://localhost:8080/"
        },
        "id": "GhETGA4f20oW",
        "outputId": "23481335-e385-41c7-c603-b10f5b891695"
      },
      "execution_count": 27,
      "outputs": [
        {
          "output_type": "execute_result",
          "data": {
            "text/plain": [
              "1"
            ]
          },
          "metadata": {},
          "execution_count": 27
        }
      ]
    },
    {
      "cell_type": "code",
      "source": [
        "getFirst([1,2,3,4,5,6,7,8,9])"
      ],
      "metadata": {
        "colab": {
          "base_uri": "https://localhost:8080/"
        },
        "id": "Yj8nyzqf220F",
        "outputId": "a4117cb3-8222-46fd-91f9-16d10ccfeb49"
      },
      "execution_count": 28,
      "outputs": [
        {
          "output_type": "execute_result",
          "data": {
            "text/plain": [
              "1"
            ]
          },
          "metadata": {},
          "execution_count": 28
        }
      ]
    },
    {
      "cell_type": "code",
      "source": [
        "# getSecond\n",
        "def getSecond(myList):\n",
        "    return myList[1]\n",
        "\n",
        "print(getSecond([1, 2, 3]))\n",
        "print(getSecond([10, 20, 30, 40]))\n"
      ],
      "metadata": {
        "id": "qrCuFyeQ5yRF",
        "colab": {
          "base_uri": "https://localhost:8080/"
        },
        "outputId": "bd54f978-cbb6-43d8-ac64-fc92e561e600"
      },
      "execution_count": 32,
      "outputs": [
        {
          "output_type": "stream",
          "name": "stdout",
          "text": [
            "2\n",
            "20\n"
          ]
        }
      ]
    },
    {
      "cell_type": "code",
      "source": [
        "# getLast (isi terakhir)\n",
        "my_list= [1,2,3]\n",
        "panjang_list = len(my_list)\n",
        "print(panjang_list)\n",
        "\n",
        "print(my_list[len(my_list)-1])"
      ],
      "metadata": {
        "colab": {
          "base_uri": "https://localhost:8080/"
        },
        "id": "U7ZJcHdi4MXi",
        "outputId": "77ea6957-f83b-4f89-f4a8-bb392ba5d5d3"
      },
      "execution_count": 34,
      "outputs": [
        {
          "output_type": "stream",
          "name": "stdout",
          "text": [
            "3\n",
            "3\n"
          ]
        }
      ]
    },
    {
      "cell_type": "code",
      "source": [
        "def getLast(myList):\n",
        "    return myList[-1]\n",
        "print(getLast([1, 2, 3]))\n",
        "print(getLast([10, 20, 30, 40]))"
      ],
      "metadata": {
        "colab": {
          "base_uri": "https://localhost:8080/"
        },
        "id": "QsjR0WpDuAXZ",
        "outputId": "0307496f-39f5-47df-86ee-8514426605bb"
      },
      "execution_count": 36,
      "outputs": [
        {
          "output_type": "stream",
          "name": "stdout",
          "text": [
            "3\n",
            "40\n"
          ]
        }
      ]
    },
    {
      "cell_type": "code",
      "source": [
        "# getKali (mengalikan seluruh angka)\n",
        "def getKali(myList):\n",
        "    result = 1\n",
        "    for x in myList:\n",
        "        result *= x\n",
        "    return result\n",
        "\n",
        "print(getKali([1, 2, 3, 4]))   # (1x2x3x4)\n",
        "print(getKali([2, 5, 10]))     # (2x5x10)"
      ],
      "metadata": {
        "colab": {
          "base_uri": "https://localhost:8080/"
        },
        "id": "NStU0Aozu0BP",
        "outputId": "8f147b7e-118e-46ea-d348-ce7c8bd1632e"
      },
      "execution_count": 39,
      "outputs": [
        {
          "output_type": "stream",
          "name": "stdout",
          "text": [
            "24\n",
            "100\n"
          ]
        }
      ]
    },
    {
      "cell_type": "code",
      "source": [
        "# getBagi (membagikan seluruh angka)\n",
        "def getBagi(myList):\n",
        "    result = myList[0]\n",
        "    for x in myList[1:]:\n",
        "        result /= x\n",
        "    return result\n",
        "\n",
        "print(getBagi([100, 2, 5]))   # (100 / 2 / 5)\n",
        "print(getBagi([64, 4, 2, 2])) # (64 / 4 / 2 / 2)"
      ],
      "metadata": {
        "colab": {
          "base_uri": "https://localhost:8080/"
        },
        "id": "2B8zDTXYuVCB",
        "outputId": "148792f6-fe7d-4a83-fbf1-ae574508488b"
      },
      "execution_count": 40,
      "outputs": [
        {
          "output_type": "stream",
          "name": "stdout",
          "text": [
            "10.0\n",
            "4.0\n"
          ]
        }
      ]
    },
    {
      "cell_type": "code",
      "source": [
        "# getBagi (membagi 2 himpunan angka)\n",
        "def getBagi(listA, listB):\n",
        "    totalA = 0\n",
        "    for x in listA:\n",
        "        totalA += x\n",
        "    totalB = 0\n",
        "    for y in listB:\n",
        "        totalB += y\n",
        "    return totalA / totalB\n",
        "\n",
        "print(getBagi([10, 20], [5, 5]))   # (30 / 10)\n",
        "print(getBagi([100, 50], [10, 15])) # (150 / 25)\n"
      ],
      "metadata": {
        "colab": {
          "base_uri": "https://localhost:8080/"
        },
        "id": "sCQo9jXPu5WL",
        "outputId": "8caef052-8a1f-42a9-a8f9-7fdfd889d20f"
      },
      "execution_count": 41,
      "outputs": [
        {
          "output_type": "stream",
          "name": "stdout",
          "text": [
            "3.0\n",
            "6.0\n"
          ]
        }
      ]
    },
    {
      "cell_type": "code",
      "source": [
        "# getKurang (mengurangi 2 himpunan angka)\n",
        "def getKurang(listA, listB):\n",
        "    totalA = 0\n",
        "    for x in listA:\n",
        "        totalA += x\n",
        "    totalB = 0\n",
        "    for y in listB:\n",
        "        totalB += y\n",
        "    return totalA - totalB\n",
        "\n",
        "print(getKurang([10, 20], [5, 5]))   # (30 - 10)\n",
        "print(getKurang([100, 50], [10, 15])) # (150 - 25)"
      ],
      "metadata": {
        "colab": {
          "base_uri": "https://localhost:8080/"
        },
        "id": "33Ch8oxevMqq",
        "outputId": "34c4b1c1-ae44-4ef4-aec6-8f0fe42bc004"
      },
      "execution_count": 42,
      "outputs": [
        {
          "output_type": "stream",
          "name": "stdout",
          "text": [
            "20\n",
            "125\n"
          ]
        }
      ]
    }
  ]
}