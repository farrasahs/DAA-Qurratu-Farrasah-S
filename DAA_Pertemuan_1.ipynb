{
  "nbformat": 4,
  "nbformat_minor": 0,
  "metadata": {
    "colab": {
      "provenance": []
    },
    "kernelspec": {
      "name": "python3",
      "display_name": "Python 3"
    },
    "language_info": {
      "name": "python"
    }
  },
  "cells": [
    {
      "cell_type": "code",
      "execution_count": null,
      "metadata": {
        "colab": {
          "base_uri": "https://localhost:8080/"
        },
        "id": "IBifK35B9qcT",
        "outputId": "16b2e18f-11b3-44fc-ed35-e5def8146206"
      },
      "outputs": [
        {
          "output_type": "stream",
          "name": "stdout",
          "text": [
            "(8, 2)\n"
          ]
        }
      ],
      "source": [
        "# Algoritma Mencari Nilai Maksimum & Minimum\n",
        "\n",
        "def max_min(arr):\n",
        " mx, mn = arr[0], arr[0]\n",
        " for x in arr[1:]:\n",
        "  if x > mx: mx = x\n",
        "  if x < mn: mn = x\n",
        " return mx, mn\n",
        "data = [3, 5, 2, 8, 6]\n",
        "print(max_min(data)) # (8, 2)"
      ]
    },
    {
      "cell_type": "code",
      "source": [
        "# Algoritma Jumlah & Rata-Rata\n",
        "\n",
        "def sum_avg(arr):\n",
        " s = 0\n",
        " for x in arr: s += x\n",
        " return s, s/len(arr)\n",
        "print(sum_avg([3,5,2,8,6])) # (24, 4.8)"
      ],
      "metadata": {
        "colab": {
          "base_uri": "https://localhost:8080/"
        },
        "id": "jVPFo9D5-ZME",
        "outputId": "7ee61700-561c-4a9c-9a5b-3466e9209a07"
      },
      "execution_count": null,
      "outputs": [
        {
          "output_type": "stream",
          "name": "stdout",
          "text": [
            "(24, 4.8)\n"
          ]
        }
      ]
    },
    {
      "cell_type": "code",
      "source": [
        "# Linear Search\n",
        "\n",
        "def linear_search(arr, target):\n",
        " for i, x in enumerate(arr):\n",
        "  if x == target:\n",
        "   return i\n",
        " return -1\n",
        "print(linear_search([7,1,9,4], 9)) # 2"
      ],
      "metadata": {
        "colab": {
          "base_uri": "https://localhost:8080/"
        },
        "id": "IB2FQpjq-f0t",
        "outputId": "295ea341-13eb-49fa-a8b4-b3b7dad49cc3"
      },
      "execution_count": null,
      "outputs": [
        {
          "output_type": "stream",
          "name": "stdout",
          "text": [
            "2\n"
          ]
        }
      ]
    },
    {
      "cell_type": "code",
      "source": [
        "# Binary Search\n",
        "\n",
        "def binary_search(arr, target):\n",
        " l, r = 0, len(arr)-1\n",
        " while l <= r:\n",
        "  m = (l+r)//2\n",
        "  if arr[m] == target: return m\n",
        "  if arr[m] < target: l = m+1\n",
        "  else: r = m-1\n",
        " return -1\n",
        "print(binary_search([1,3,5,7,9], 7)) # 3"
      ],
      "metadata": {
        "colab": {
          "base_uri": "https://localhost:8080/"
        },
        "id": "NNbHmNQc-rq6",
        "outputId": "af6f17a2-fc11-4c4b-b334-ac1abedb1c12"
      },
      "execution_count": null,
      "outputs": [
        {
          "output_type": "stream",
          "name": "stdout",
          "text": [
            "3\n"
          ]
        }
      ]
    },
    {
      "cell_type": "code",
      "source": [
        "# Cek Bilangan Prima\n",
        "\n",
        "def is_prime(n):\n",
        " if n < 2: return False\n",
        " i = 2\n",
        " while i*i <= n:\n",
        "  if n % i == 0: return False\n",
        "  i += 1\n",
        " return True\n",
        "print([ (x, is_prime(x)) for x in [2,3,4,17,20,23]\n",
        "])"
      ],
      "metadata": {
        "colab": {
          "base_uri": "https://localhost:8080/"
        },
        "id": "gE5dImgX-zfF",
        "outputId": "f94568ec-4a30-4aad-efa7-cb3d5c324639"
      },
      "execution_count": null,
      "outputs": [
        {
          "output_type": "stream",
          "name": "stdout",
          "text": [
            "[(2, True), (3, True), (4, False), (17, True), (20, False), (23, True)]\n"
          ]
        }
      ]
    },
    {
      "cell_type": "code",
      "source": [
        "# Sieve of Eratosthenes\n",
        "\n",
        "def sieve(n):\n",
        " prime = [True]*(n+1)\n",
        " prime[:2] = [False, False]\n",
        " p = 2\n",
        " while p*p <= n:\n",
        "  if prime[p]:\n",
        "   for m in range(p*p, n+1, p):\n",
        "    prime[m] = False\n",
        "  p += 1\n",
        " return [i for i, v in enumerate(prime) if v]\n",
        "print(sieve(30))"
      ],
      "metadata": {
        "colab": {
          "base_uri": "https://localhost:8080/"
        },
        "id": "_4e6jLpT_AvV",
        "outputId": "3b5b1a7e-061c-4533-8147-820ff1779910"
      },
      "execution_count": null,
      "outputs": [
        {
          "output_type": "stream",
          "name": "stdout",
          "text": [
            "[2, 3, 5, 7, 11, 13, 17, 19, 23, 29]\n"
          ]
        }
      ]
    },
    {
      "cell_type": "code",
      "source": [
        "# Faktorial (Iteratif)\n",
        "\n",
        "def factorial(n):\n",
        " res = 1\n",
        " for i in range(2, n+1): res *= i\n",
        " return res\n",
        "print(factorial(5)) # 120"
      ],
      "metadata": {
        "colab": {
          "base_uri": "https://localhost:8080/"
        },
        "id": "6gs1bjSa_nWT",
        "outputId": "6b394526-6d82-4647-fca6-37f671182af8"
      },
      "execution_count": null,
      "outputs": [
        {
          "output_type": "stream",
          "name": "stdout",
          "text": [
            "120\n"
          ]
        }
      ]
    },
    {
      "cell_type": "code",
      "source": [
        "# Fibonacci (Iteratif)\n",
        "\n",
        "def fib(n):\n",
        " if n <= 1: return n\n",
        " a, b = 0, 1\n",
        " for _ in range(2, n+1):\n",
        "  a, b = b, a+b\n",
        " return b\n",
        "print([fib(i) for i in range(10)])"
      ],
      "metadata": {
        "colab": {
          "base_uri": "https://localhost:8080/"
        },
        "id": "qF_B1YR-_yPC",
        "outputId": "8d987db2-3a7e-43e5-c0b1-1dd25d1e6aa8"
      },
      "execution_count": null,
      "outputs": [
        {
          "output_type": "stream",
          "name": "stdout",
          "text": [
            "[0, 1, 1, 2, 3, 5, 8, 13, 21, 34]\n"
          ]
        }
      ]
    },
    {
      "cell_type": "code",
      "source": [
        "# Palindrome String\n",
        "\n",
        "def is_palindrome(s):\n",
        " l, r = 0, len(s)-1\n",
        " while l < r:\n",
        "  if s[l] != s[r]: return False\n",
        "  l += 1; r -= 1\n",
        " return True\n",
        "print(is_palindrome(\"level\"))\n",
        "print(is_palindrome(\"hello\"))"
      ],
      "metadata": {
        "colab": {
          "base_uri": "https://localhost:8080/"
        },
        "id": "wWfeZcJc_6pt",
        "outputId": "56d5a2ed-0c82-49c9-ab56-b3489f9fd7bb"
      },
      "execution_count": null,
      "outputs": [
        {
          "output_type": "stream",
          "name": "stdout",
          "text": [
            "True\n",
            "False\n"
          ]
        }
      ]
    },
    {
      "cell_type": "code",
      "source": [
        "# Hitung Frekuensi Elemen\n",
        "\n",
        "def freq_map(arr):\n",
        " f = {}\n",
        " for x in arr:\n",
        "  f[x] = f.get(x, 0) + 1\n",
        " return f\n",
        "print(freq_map([\"a\",\"b\",\"a\",\"c\",\"b\",\"a\"]))"
      ],
      "metadata": {
        "colab": {
          "base_uri": "https://localhost:8080/"
        },
        "id": "yZJbncCVAGax",
        "outputId": "c8172ab2-106b-4fc8-ea75-864bf4d47ffa"
      },
      "execution_count": null,
      "outputs": [
        {
          "output_type": "stream",
          "name": "stdout",
          "text": [
            "{'a': 3, 'b': 2, 'c': 1}\n"
          ]
        }
      ]
    },
    {
      "cell_type": "code",
      "source": [
        "# Nilai Kedua Terbesar\n",
        "\n",
        "def second_largest(arr):\n",
        " first = second = float(\"-inf\")\n",
        " for x in arr:\n",
        "  if x > first:\n",
        "   first, second = x, first\n",
        "  elif first > x > second:\n",
        "   second = x\n",
        " return second\n",
        "print(second_largest([3,9,1,7,9,5])) # 7"
      ],
      "metadata": {
        "colab": {
          "base_uri": "https://localhost:8080/"
        },
        "id": "6M7VNACiAS5j",
        "outputId": "6d070558-4758-4828-b9b7-4fb8c319db94"
      },
      "execution_count": null,
      "outputs": [
        {
          "output_type": "stream",
          "name": "stdout",
          "text": [
            "7\n"
          ]
        }
      ]
    },
    {
      "cell_type": "code",
      "source": [
        "# Membalik List/String\n",
        "\n",
        "def reverse_list(a):\n",
        " l, r = 0, len(a)-1\n",
        " while l < r:\n",
        "  a[l], a[r] = a[r], a[l]\n",
        "  l += 1; r -= 1\n",
        " return a\n",
        "print(reverse_list([1,2,3,4,5]))\n",
        "print(\"hello\"[::-1])"
      ],
      "metadata": {
        "colab": {
          "base_uri": "https://localhost:8080/"
        },
        "id": "dbQJVAevAhrv",
        "outputId": "96745105-1ff5-42f9-ab27-0391979fa9c1"
      },
      "execution_count": null,
      "outputs": [
        {
          "output_type": "stream",
          "name": "stdout",
          "text": [
            "[5, 4, 3, 2, 1]\n",
            "olleh\n"
          ]
        }
      ]
    }
  ]
}